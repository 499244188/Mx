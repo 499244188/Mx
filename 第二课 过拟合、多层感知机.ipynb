{
 "cells": [
  {
   "cell_type": "code",
   "execution_count": 2,
   "metadata": {},
   "outputs": [],
   "source": [
    "from mxnet import gluon\n",
    "from mxnet import ndarray as nd"
   ]
  },
  {
   "cell_type": "code",
   "execution_count": 3,
   "metadata": {},
   "outputs": [],
   "source": [
    "def transform(data,label):\n",
    "    return data.astype('float32')/255,label.astype('float32')"
   ]
  },
  {
   "cell_type": "code",
   "execution_count": 4,
   "metadata": {},
   "outputs": [
    {
     "name": "stderr",
     "output_type": "stream",
     "text": [
      "/home/zyc/anaconda3/lib/python3.6/site-packages/mxnet/gluon/data/vision/datasets.py:118: DeprecationWarning: The binary mode of fromstring is deprecated, as it behaves surprisingly on unicode inputs. Use frombuffer instead\n",
      "  label = np.fromstring(fin.read(), dtype=np.uint8).astype(np.int32)\n",
      "/home/zyc/anaconda3/lib/python3.6/site-packages/mxnet/gluon/data/vision/datasets.py:122: DeprecationWarning: The binary mode of fromstring is deprecated, as it behaves surprisingly on unicode inputs. Use frombuffer instead\n",
      "  data = np.fromstring(fin.read(), dtype=np.uint8)\n"
     ]
    }
   ],
   "source": [
    "mnist_train = gluon.data.vision.FashionMNIST(root='../Mx/datasets/fashion-mnist/',train=True,transform=transform)\n",
    "mnist_test = gluon.data.vision.FashionMNIST(root='../Mx/datasets/fashion-mnist/',train=False,transform=transform)"
   ]
  },
  {
   "cell_type": "markdown",
   "metadata": {},
   "source": [
    "### 数据读取"
   ]
  },
  {
   "cell_type": "code",
   "execution_count": 5,
   "metadata": {},
   "outputs": [],
   "source": [
    "batch_size = 256\n",
    "train_data = gluon.data.DataLoader(mnist_train,batch_size,shuffle=True)\n",
    "test_data = gluon.data.DataLoader(mnist_test,batch_size,shuffle=False)"
   ]
  },
  {
   "cell_type": "code",
   "execution_count": 6,
   "metadata": {},
   "outputs": [],
   "source": [
    "num_inputs = 28*28\n",
    "num_outputs = 10\n",
    "\n",
    "num_hidden = 256\n",
    "weight_scale = .01\n",
    "\n",
    "W1 = nd.random_normal(shape=(num_inputs,num_hidden),scale=weight_scale)\n",
    "b1 = nd.zeros(num_hidden)\n",
    "\n",
    "W2 = nd.random_normal(shape=(num_hidden,num_outputs),scale = weight_scale)\n",
    "b2 = nd.zeros(num_outputs)\n",
    "\n",
    "params = [W1,b1,W2,b2]\n",
    "\n",
    "for param in params:\n",
    "    param.attach_grad()"
   ]
  },
  {
   "cell_type": "markdown",
   "metadata": {},
   "source": [
    "### 激活函数"
   ]
  },
  {
   "cell_type": "markdown",
   "metadata": {},
   "source": [
    "如果用线性操作符来构造多层神经网络，那么整个网络任然是一个线性，这是因为  \n",
    "$y’ = X*W_1*W_2 = X*W_3$  \n",
    "\n",
    "### $relu(x)=max(x,0)$"
   ]
  },
  {
   "cell_type": "code",
   "execution_count": 8,
   "metadata": {},
   "outputs": [],
   "source": [
    "def relu(x):\n",
    "    return nd.maximum(x,0)"
   ]
  },
  {
   "cell_type": "markdown",
   "metadata": {},
   "source": [
    "### 定义模型  \n",
    "就是将各个层串联起来（输入层-隐藏层[relu]-输出层）"
   ]
  },
  {
   "cell_type": "code",
   "execution_count": 18,
   "metadata": {},
   "outputs": [],
   "source": [
    "def net(X):\n",
    "    X = X.reshape((-1,num_inputs))\n",
    "    h1 = relu(nd.dot(X,W1)+b1)\n",
    "    output = nd.dot(h1,W2)+b2\n",
    "    return output"
   ]
  },
  {
   "cell_type": "markdown",
   "metadata": {},
   "source": [
    "### Softmax 和交叉损失函数"
   ]
  },
  {
   "cell_type": "code",
   "execution_count": 30,
   "metadata": {},
   "outputs": [],
   "source": [
    "from mxnet import gluon\n",
    "softmax_cross_entropy = gluon.loss.SoftmaxCrossEntropyLoss()"
   ]
  },
  {
   "cell_type": "markdown",
   "metadata": {},
   "source": [
    "#### 三个轮子函数"
   ]
  },
  {
   "cell_type": "code",
   "execution_count": 31,
   "metadata": {},
   "outputs": [],
   "source": [
    "def SGD(params,lr):\n",
    "    for param in params:\n",
    "        param[:] = param-lr*param.grad"
   ]
  },
  {
   "cell_type": "code",
   "execution_count": 32,
   "metadata": {},
   "outputs": [],
   "source": [
    "def accuracy(output,label):\n",
    "    return nd.mean(output.argmax(axis=1)==label).asscalar()"
   ]
  },
  {
   "cell_type": "code",
   "execution_count": 33,
   "metadata": {},
   "outputs": [],
   "source": [
    "def evaluate_accuracy(data_iterator,net):\n",
    "    acc = 0\n",
    "    for data,label in data_iterator:\n",
    "        output = net(data)\n",
    "        acc += accuracy(output,label)\n",
    "    return acc/len(data_iterator)"
   ]
  },
  {
   "cell_type": "markdown",
   "metadata": {},
   "source": [
    "### 训练"
   ]
  },
  {
   "cell_type": "code",
   "execution_count": 34,
   "metadata": {},
   "outputs": [
    {
     "name": "stdout",
     "output_type": "stream",
     "text": [
      "Epoch 0. Loss: 0.287572, Train acc 0.895163,Test acc 0.022224\n",
      "Epoch 1. Loss: 0.284781, Train acc 0.895678,Test acc 0.022222\n",
      "Epoch 2. Loss: 0.281756, Train acc 0.897047,Test acc 0.022273\n",
      "Epoch 3. Loss: 0.279007, Train acc 0.898814,Test acc 0.022258\n",
      "Epoch 4. Loss: 0.276812, Train acc 0.899934,Test acc 0.022334\n"
     ]
    }
   ],
   "source": [
    "from mxnet import autograd as autograd\n",
    "\n",
    "learning_rate = 0.1\n",
    "\n",
    "for epoch in range(5):\n",
    "    train_loss = 0.\n",
    "    train_acc = 0.\n",
    "    for data,label in train_data:\n",
    "        with autograd.record():\n",
    "            output = net(data)\n",
    "            loss = softmax_cross_entropy(output,label)\n",
    "        loss.backward()\n",
    "        SGD(params,learning_rate/batch_size)\n",
    "        \n",
    "        train_loss += nd.mean(loss).asscalar()\n",
    "        train_acc += accuracy(output,label)\n",
    "        \n",
    "    test_acc = evaluate_accuracy(test_data,net)\n",
    "    print(\"Epoch %d. Loss: %f, Train acc %f,Test acc %f\"%\\\n",
    "         (epoch,train_loss/len(train_data),train_acc/len(train_data),\n",
    "         test_acc/len(test_data)))\n",
    "        "
   ]
  },
  {
   "cell_type": "markdown",
   "metadata": {},
   "source": [
    "# 第二课，30分钟，上面测试集acc有问题，明天在注意检查"
   ]
  },
  {
   "cell_type": "code",
   "execution_count": null,
   "metadata": {},
   "outputs": [],
   "source": []
  }
 ],
 "metadata": {
  "kernelspec": {
   "display_name": "Python 3",
   "language": "python",
   "name": "python3"
  },
  "language_info": {
   "codemirror_mode": {
    "name": "ipython",
    "version": 3
   },
   "file_extension": ".py",
   "mimetype": "text/x-python",
   "name": "python",
   "nbconvert_exporter": "python",
   "pygments_lexer": "ipython3",
   "version": "3.6.4"
  }
 },
 "nbformat": 4,
 "nbformat_minor": 2
}
